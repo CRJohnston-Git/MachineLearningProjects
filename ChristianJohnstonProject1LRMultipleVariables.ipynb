{
 "cells": [
  {
   "cell_type": "code",
   "execution_count": 11,
   "id": "5ef5125c",
   "metadata": {},
   "outputs": [
    {
     "name": "stdout",
     "output_type": "stream",
     "text": [
      "[[341805.20024107]]\n"
     ]
    },
    {
     "name": "stderr",
     "output_type": "stream",
     "text": [
      "C:\\Users\\Christian\\Desktop\\School Stuff\\Fall 2023\\AI\\Anaconda\\Lib\\site-packages\\sklearn\\base.py:464: UserWarning: X does not have valid feature names, but LinearRegression was fitted with feature names\n",
      "  warnings.warn(\n"
     ]
    }
   ],
   "source": [
    "#Project 1 Task 2, Linear Regression with Multiple Variables\n",
    "#Christian Johnston, CPSC 4383, Fall 2023\n",
    "\n",
    "#This method is very similar to the single variable linear regression data model, but with multiple variables for x.\n",
    "#I will be using a different reference though: https://www.w3schools.com/python/python_ml_multiple_regression.asp\n",
    "\n",
    "#first I am going to set up my tools for the project: pandas, and scikit learn.\n",
    "\n",
    "import pandas as pd\n",
    "from sklearn import linear_model\n",
    "\n",
    "#using pandas i extract the data into my variables.\n",
    "\n",
    "data = pd.read_csv(r'C:\\Users\\Christian\\Desktop\\School Stuff\\Fall 2023\\AI\\course content\\ex1data2.csv')\n",
    "\n",
    "#now that we have the data, we can extract the columns we need for our linear regression fit.\n",
    "\n",
    "X = pd.DataFrame(data, columns=['Size of the House', 'Number of Bedrooms'])\n",
    "y = pd.DataFrame(data, columns=['Price'])\n",
    "\n",
    "\n",
    "#Here i construct the model for linear regression using the linear_model method in scikit learn.\n",
    "model = linear_model.LinearRegression()\n",
    "model.fit(X,y)\n",
    "\n",
    "#now that our model is constructed, lets make a prediction to test it against the data.\n",
    "# lets say we want a house that is 2000 sqft with 3 bedrooms.\n",
    "\n",
    "print(model.predict([[2000, 3]]))"
   ]
  },
  {
   "cell_type": "markdown",
   "id": "a61ee0b4",
   "metadata": {},
   "source": [
    "Here we see the predicted values for a 2000sqft house with 3 bedrooms.  The model uses ordinary least squares but this time uses two different data columns to calculate the best fit.  The values from my test run gave me 341805.20024107 which sounds about right considering my personal observation of the data."
   ]
  }
 ],
 "metadata": {
  "kernelspec": {
   "display_name": "Python 3 (ipykernel)",
   "language": "python",
   "name": "python3"
  },
  "language_info": {
   "codemirror_mode": {
    "name": "ipython",
    "version": 3
   },
   "file_extension": ".py",
   "mimetype": "text/x-python",
   "name": "python",
   "nbconvert_exporter": "python",
   "pygments_lexer": "ipython3",
   "version": "3.11.4"
  }
 },
 "nbformat": 4,
 "nbformat_minor": 5
}
